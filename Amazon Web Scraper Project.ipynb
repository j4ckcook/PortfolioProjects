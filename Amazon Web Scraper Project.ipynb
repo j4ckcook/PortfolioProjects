{
 "cells": [
  {
   "cell_type": "code",
   "execution_count": null,
   "id": "7c98a027",
   "metadata": {},
   "outputs": [],
   "source": [
    "# Import libraries\n",
    "\n",
    "from bs4 import BeautifulSoup\n",
    "import pandas as pd\n",
    "import csv\n",
    "import requests\n",
    "import time\n",
    "import datetime\n",
    "\n",
    "import smtplib"
   ]
  },
  {
   "cell_type": "code",
   "execution_count": null,
   "id": "e7a6661f",
   "metadata": {},
   "outputs": [],
   "source": [
    "# Connect to Amazon\n",
    "\n",
    "URL = 'https://www.amazon.com/dp/B016MUEWMI?psc=1&ref=ppx_yo2ov_dt_b_product_details'\n",
    "\n",
    "headers = {\"User-Agent\": \"Mozilla/5.0 (Windows NT 10.0; Win64; x64) AppleWebKit/537.36 (KHTML, like Gecko) Chrome/103.0.0.0 Safari/537.36\", \"Accept-Encoding\":\"gzip, deflate\", \"Accept\":\"text/html,application/xhtml+xml,application/xml;q=0.9,*/*;q=0.8\", \"DNT\":\"1\",\"Connection\":\"close\", \"Upgrade-Insecure-Requests\":\"1\"}\n",
    "\n",
    "page = requests.get(URL, headers=headers)\n",
    "\n",
    "soup1 = BeautifulSoup(page.content, 'html.parser')\n",
    "\n",
    "soup2 = BeautifulSoup(soup1.prettify(), 'html.parser')\n",
    "\n",
    "title = soup2.find(id='productTitle').get_text()\n",
    "\n",
    "price = soup2.find(id='sns-base-price').get_text()\n",
    "\n",
    "numOfRating = soup2.find(id='acrCustomerReviewText').get_text()\n",
    "\n",
    "flavor = soup2.find(id='variation_flavor_name').get_text()\n",
    "\n",
    "brand = soup2.find(id='bylineInfo').get_text()\n",
    "\n",
    "size = soup2.find(id='variation_size_name').get_text()\n",
    "\n",
    "rating = soup2.find(id='reviewsMedley').get_text()\n",
    "\n",
    "\n"
   ]
  },
  {
   "cell_type": "code",
   "execution_count": null,
   "id": "7185e911",
   "metadata": {},
   "outputs": [],
   "source": [
    "price = price.strip()[1:6]\n",
    "title = title.strip()[:33]\n",
    "numOfRating = numOfRating.strip()[:5]\n",
    "flavor = flavor.strip()[44:58]\n",
    "brand = brand.strip()[7:]\n",
    "size = size.strip()[37:48]\n",
    "rating = rating.strip()[54:57]\n"
   ]
  },
  {
   "cell_type": "code",
   "execution_count": null,
   "id": "abbcb6c2",
   "metadata": {},
   "outputs": [],
   "source": [
    "today = datetime.date.today()\n"
   ]
  },
  {
   "cell_type": "code",
   "execution_count": null,
   "id": "ace2f643",
   "metadata": {},
   "outputs": [],
   "source": [
    "# Create a CSV\n",
    "header = ['Title', 'Price', 'Date', 'Number of Ratings', 'Rating out of 5', 'Flavor', 'Brand', 'Size']\n",
    "data = [title, price, today, numOfRating, rating, flavor, brand, size]\n",
    "\n",
    "#with open('AmazonScraperDataset.csv', 'w', newline='', encoding='UTF8') as f:\n",
    " #   writer = csv.writer(f)\n",
    "  #  writer.writerow(header)\n",
    "   # writer.writerow(data)"
   ]
  },
  {
   "cell_type": "code",
   "execution_count": null,
   "id": "1859834a",
   "metadata": {},
   "outputs": [],
   "source": [
    "df = pd.read_csv(r'C:\\Users\\jackt\\AmazonScraperDataset.csv')\n",
    "print(df)"
   ]
  },
  {
   "cell_type": "code",
   "execution_count": null,
   "id": "428a162e",
   "metadata": {},
   "outputs": [],
   "source": [
    "# Append data to csv\n",
    "\n",
    "with open('AmazonScraperDataset.csv', 'a+', newline='', encoding='UTF8') as f:\n",
    "    writer = csv.writer(f)\n",
    "    writer.writerow(data)"
   ]
  },
  {
   "cell_type": "code",
   "execution_count": null,
   "id": "db5a5b57",
   "metadata": {},
   "outputs": [],
   "source": [
    "def check_price():\n",
    "    URL = 'https://www.amazon.com/dp/B016MUEWMI?psc=1&ref=ppx_yo2ov_dt_b_product_details'\n",
    "\n",
    "    headers = {\"User-Agent\": \"Mozilla/5.0 (Windows NT 10.0; Win64; x64) AppleWebKit/537.36 (KHTML, like Gecko) Chrome/103.0.0.0 Safari/537.36\", \"Accept-Encoding\":\"gzip, deflate\", \"Accept\":\"text/html,application/xhtml+xml,application/xml;q=0.9,*/*;q=0.8\", \"DNT\":\"1\",\"Connection\":\"close\", \"Upgrade-Insecure-Requests\":\"1\"}\n",
    "\n",
    "    page = requests.get(URL, headers=headers)\n",
    "\n",
    "    soup1 = BeautifulSoup(page.content, 'html.parser')\n",
    "\n",
    "    soup2 = BeautifulSoup(soup1.prettify(), 'html.parser')\n",
    "\n",
    "    title = soup2.find(id='productTitle').get_text()\n",
    "    price = soup2.find(id='sns-base-price').get_text()\n",
    "    numOfRating = soup2.find(id='acrCustomerReviewText').get_text()\n",
    "    flavor = soup2.find(id='variation_flavor_name').get_text()\n",
    "    brand = soup2.find(id='bylineInfo').get_text()\n",
    "    size = soup2.find(id='variation_size_name').get_text()\n",
    "    rating = soup2.find(id='reviewsMedley').get_text()\n",
    "    \n",
    "    price = price.strip()[1:6]\n",
    "    title = title.strip()[:33]\n",
    "    numOfRating = numOfRating.strip()[:5]\n",
    "    flavor = flavor.strip()[44:58]\n",
    "    brand = brand.strip()[7:]\n",
    "    size = size.strip()[37:48]\n",
    "    rating = rating.strip()[54:57]\n",
    "    today = datetime.date.today()\n",
    "    \n",
    "    header = ['Title', 'Price', 'Date', 'Number of Ratings', 'Rating out of 5', 'Flavor', 'Brand', 'Size']\n",
    "    data = [title, price, today, numOfRating, rating, flavor, brand, size]\n",
    "    \n",
    "    with open('AmazonScraperDataset.csv', 'a+', newline='', encoding='UTF8') as f:\n",
    "        writer = csv.writer(f)\n",
    "        writer.writerow(data)\n",
    "    "
   ]
  },
  {
   "cell_type": "code",
   "execution_count": null,
   "id": "f064df49",
   "metadata": {},
   "outputs": [],
   "source": [
    "while(True):\n",
    "    check_price()\n",
    "    time.sleep(86400)"
   ]
  },
  {
   "cell_type": "code",
   "execution_count": null,
   "id": "fbd47f81",
   "metadata": {},
   "outputs": [],
   "source": [
    "def send_mail():\n",
    "    server = smtplib.SMTP_SSL('smtp.gmail.com', 465)\n",
    "    server.ehlo()\n",
    "    #server.starttls()\n",
    "    server.ehlo()\n",
    "    server.login('j4cook2001@gmail.com', '**************')\n",
    "    \n",
    "    subject = \"Tailwind Nutrition is below $30! Buy now!\"\n",
    "    body = \"Now would be the best time to buy Tailwind Nutrition Endurance Fuel, go to amazon and get some!\"\n",
    "    \n",
    "    msg = f\"Subject: {subject}\\n\\n{body}\"\n",
    "    \n",
    "    server.sendmail('j4cook2001@gmail.com', msg)"
   ]
  }
 ],
 "metadata": {
  "kernelspec": {
   "display_name": "Python 3 (ipykernel)",
   "language": "python",
   "name": "python3"
  },
  "language_info": {
   "codemirror_mode": {
    "name": "ipython",
    "version": 3
   },
   "file_extension": ".py",
   "mimetype": "text/x-python",
   "name": "python",
   "nbconvert_exporter": "python",
   "pygments_lexer": "ipython3",
   "version": "3.9.12"
  }
 },
 "nbformat": 4,
 "nbformat_minor": 5
}
